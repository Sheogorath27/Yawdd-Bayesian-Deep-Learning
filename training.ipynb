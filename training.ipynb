{
  "nbformat": 4,
  "nbformat_minor": 0,
  "metadata": {
    "colab": {
      "name": "training.ipynb",
      "provenance": [],
      "collapsed_sections": []
    },
    "kernelspec": {
      "name": "python3",
      "display_name": "Python 3"
    }
  },
  "cells": [
    {
      "cell_type": "code",
      "metadata": {
        "id": "8UzY1GaIS2ZC",
        "colab_type": "code",
        "colab": {}
      },
      "source": [
        "# Connect gdrive\n",
        "from google.colab import drive \n",
        "drive.mount('/content/gdrive')"
      ],
      "execution_count": null,
      "outputs": []
    },
    {
      "cell_type": "code",
      "metadata": {
        "id": "fETtSIPld0uO",
        "colab_type": "code",
        "colab": {}
      },
      "source": [
        "# Setting tensorflow and pytorch for concrete dropout\n",
        "# need to be done first\n",
        "%tensorflow_version 1.x"
      ],
      "execution_count": null,
      "outputs": []
    },
    {
      "cell_type": "code",
      "metadata": {
        "id": "M-0ACNaZeBnr",
        "colab_type": "code",
        "colab": {}
      },
      "source": [
        "import tensorflow\n",
        "print(tensorflow.__version__)"
      ],
      "execution_count": null,
      "outputs": []
    },
    {
      "cell_type": "code",
      "metadata": {
        "id": "ilXx_xP-eDF-",
        "colab_type": "code",
        "colab": {}
      },
      "source": [
        "!pip install q keras==2.2.4"
      ],
      "execution_count": null,
      "outputs": []
    },
    {
      "cell_type": "code",
      "metadata": {
        "id": "9U6a24ribQSa",
        "colab_type": "code",
        "colab": {}
      },
      "source": [
        "import pandas as pd\n",
        "import numpy as np\n",
        "from sklearn.metrics import accuracy_score\n",
        "from sklearn.model_selection import train_test_split\n",
        "import keras"
      ],
      "execution_count": 10,
      "outputs": []
    },
    {
      "cell_type": "code",
      "metadata": {
        "id": "7oVlbwh1brFN",
        "colab_type": "code",
        "colab": {}
      },
      "source": [
        "import models"
      ],
      "execution_count": 4,
      "outputs": []
    },
    {
      "cell_type": "code",
      "metadata": {
        "id": "5a_drY_hbuoW",
        "colab_type": "code",
        "colab": {}
      },
      "source": [
        "Mdir = \"/content/gdrive/My Drive/Colab Notebooks/\""
      ],
      "execution_count": 6,
      "outputs": []
    },
    {
      "cell_type": "code",
      "metadata": {
        "id": "bbNO6xFmcMyV",
        "colab_type": "code",
        "colab": {}
      },
      "source": [
        "# import data\n",
        "Xdir = 'X.npy'\n",
        "X = np.load(Mdir + Xdir)\n",
        "dataDir = \"Datasets/YawDD dataset/pics.csv\"\n",
        "data = pd.read_csv(Mdir + dataDir)"
      ],
      "execution_count": 8,
      "outputs": []
    },
    {
      "cell_type": "code",
      "metadata": {
        "id": "7t7qUVibc8Bz",
        "colab_type": "code",
        "colab": {}
      },
      "source": [
        "num_classes = 3\n",
        "y = data['class']\n",
        "y = keras.utils.to_categorical(y, num_classes)\n",
        "\n",
        "x_train, x_test, y_train, y_test = train_test_split(X, y, random_state=42, test_size=0.8, stratify = y)"
      ],
      "execution_count": 11,
      "outputs": []
    },
    {
      "cell_type": "code",
      "metadata": {
        "id": "7Krzpky4rbCV",
        "colab_type": "code",
        "colab": {}
      },
      "source": [
        "# padding for RNN when using complete video file dataset\n",
        "from keras.preprocessing import sequence\n",
        "seq_len = 46\n",
        "vidPad=sequence.pad_sequences(X, maxlen=seq_len, padding='post', dtype='float', truncating='post')"
      ],
      "execution_count": null,
      "outputs": []
    },
    {
      "cell_type": "code",
      "metadata": {
        "id": "sGfeWfWnds5L",
        "colab_type": "code",
        "colab": {}
      },
      "source": [
        "# Clear memory\n",
        "X = None"
      ],
      "execution_count": 12,
      "outputs": []
    },
    {
      "cell_type": "code",
      "metadata": {
        "id": "T_XVWnwTdUfs",
        "colab_type": "code",
        "colab": {}
      },
      "source": [
        "np.random.seed(2728)\n",
        "tensorflow.set_random_seed(58294)"
      ],
      "execution_count": null,
      "outputs": []
    },
    {
      "cell_type": "code",
      "metadata": {
        "id": "U1oR1Ybievcs",
        "colab_type": "code",
        "colab": {}
      },
      "source": [
        "# inits for concrete layers\n",
        "N = len(x_train)\n",
        "wd = 1e-2 / N\n",
        "dd = 2. / N"
      ],
      "execution_count": null,
      "outputs": []
    },
    {
      "cell_type": "code",
      "metadata": {
        "id": "Qix_fISkfZ7K",
        "colab_type": "code",
        "colab": {}
      },
      "source": [
        "# init for single frame\n",
        "input_shape = (224, 224, 3)\n",
        "batch_size = 128"
      ],
      "execution_count": 16,
      "outputs": []
    },
    {
      "cell_type": "code",
      "metadata": {
        "id": "ELnqIeiEfbUI",
        "colab_type": "code",
        "colab": {}
      },
      "source": [
        "# init for RNN\n",
        "batch_size = 28\n",
        "input_shape = (46, 128, 128, 3)"
      ],
      "execution_count": 13,
      "outputs": []
    },
    {
      "cell_type": "code",
      "metadata": {
        "id": "qaJIYCgcfArh",
        "colab_type": "code",
        "colab": {}
      },
      "source": [
        "# init for multi frame\n",
        "batch_size = 128\n",
        "input_shape = (128, 768, 3)"
      ],
      "execution_count": null,
      "outputs": []
    },
    {
      "cell_type": "code",
      "metadata": {
        "id": "AegFz5Ohgnkl",
        "colab_type": "code",
        "colab": {}
      },
      "source": [
        "modlenet = models.lenet(input_shape, num_classes)"
      ],
      "execution_count": null,
      "outputs": []
    },
    {
      "cell_type": "code",
      "metadata": {
        "id": "QPHp3CGhhwwx",
        "colab_type": "code",
        "colab": {}
      },
      "source": [
        "modlenet = models.lenetDrp(input_shape, num_classes)"
      ],
      "execution_count": null,
      "outputs": []
    },
    {
      "cell_type": "code",
      "metadata": {
        "id": "qOKAW6h-hU9w",
        "colab_type": "code",
        "colab": {}
      },
      "source": [
        "modlenet = models.lenetMcDrp(input_shape, num_classes)"
      ],
      "execution_count": 18,
      "outputs": []
    },
    {
      "cell_type": "code",
      "metadata": {
        "id": "O-YXf-vAhljF",
        "colab_type": "code",
        "colab": {}
      },
      "source": [
        "modlenet = models.lenetCncDrp(input_shape, num_classes)"
      ],
      "execution_count": null,
      "outputs": []
    },
    {
      "cell_type": "code",
      "metadata": {
        "id": "asbV_MDhgDdT",
        "colab_type": "code",
        "colab": {}
      },
      "source": [
        "modLstm = models.lenetLSTM(input_shape, num_classes)"
      ],
      "execution_count": null,
      "outputs": []
    },
    {
      "cell_type": "code",
      "metadata": {
        "id": "_HN9Uu4YgKrY",
        "colab_type": "code",
        "colab": {}
      },
      "source": [
        "h1 = modlenet.fit(x_train, y_train,\n",
        "              batch_size=batch_size,\n",
        "              epochs=30,\n",
        "              verbose=1,\n",
        "              validation_data=(x_test, y_test))"
      ],
      "execution_count": null,
      "outputs": []
    },
    {
      "cell_type": "code",
      "metadata": {
        "id": "45nWV3NQiBsN",
        "colab_type": "code",
        "colab": {}
      },
      "source": [
        "# stochstic predictions for BNNs\n",
        "import tqdm\n",
        "\n",
        "mc_predictions = []\n",
        "for i in tqdm.tqdm(range(500)):\n",
        "    y_p = modlenet.predict(X_test, batch_size=128)\n",
        "    mc_predictions.append(y_p)"
      ],
      "execution_count": null,
      "outputs": []
    },
    {
      "cell_type": "code",
      "metadata": {
        "id": "vmlHYXm4iiZk",
        "colab_type": "code",
        "colab": {}
      },
      "source": [
        "# save predictions for analysis\n",
        "mcPred = np.asarray(mc_predictions)\n",
        "Pdir = \"mcPredExp1.npy\"\n",
        "np.save(Mdir + Pdir, mcPred)"
      ],
      "execution_count": null,
      "outputs": []
    },
    {
      "cell_type": "code",
      "metadata": {
        "id": "elL3cqfyjUfY",
        "colab_type": "code",
        "colab": {}
      },
      "source": [
        "# mean accuracy scores\n",
        "from sklearn.metrics import accuracy_score\n",
        "mc_ensemble_pred = mcPred.mean(axis=0).argmax(axis=1)\n",
        "ensemble_acc = accuracy_score(y_test.argmax(axis=1), mc_ensemble_pred)\n",
        "print(\"MC-ensemble accuracy: {:.1%}\".format(ensemble_acc))"
      ],
      "execution_count": null,
      "outputs": []
    }
  ]
}