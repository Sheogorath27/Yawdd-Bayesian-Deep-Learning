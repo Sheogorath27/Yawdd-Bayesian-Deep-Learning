{
  "nbformat": 4,
  "nbformat_minor": 0,
  "metadata": {
    "colab": {
      "name": "model analysis.ipynb",
      "provenance": [],
      "collapsed_sections": []
    },
    "kernelspec": {
      "name": "python3",
      "display_name": "Python 3"
    }
  },
  "cells": [
    {
      "cell_type": "code",
      "metadata": {
        "id": "t4Xvz6iD37qT",
        "colab_type": "code",
        "colab": {
          "base_uri": "https://localhost:8080/",
          "height": 34
        },
        "outputId": "bb722bfa-e9fb-44db-8151-7663b7c40fb0"
      },
      "source": [
        "# Connect gdrive\n",
        "from google.colab import drive \n",
        "drive.mount('/content/gdrive')"
      ],
      "execution_count": 1,
      "outputs": [
        {
          "output_type": "stream",
          "text": [
            "Drive already mounted at /content/gdrive; to attempt to forcibly remount, call drive.mount(\"/content/gdrive\", force_remount=True).\n"
          ],
          "name": "stdout"
        }
      ]
    },
    {
      "cell_type": "code",
      "metadata": {
        "id": "LSwwQiN65edQ",
        "colab_type": "code",
        "colab": {}
      },
      "source": [
        "import pandas as pd\n",
        "import numpy as np\n",
        "from sklearn.model_selection import train_test_split\n",
        "import keras"
      ],
      "execution_count": 2,
      "outputs": []
    },
    {
      "cell_type": "code",
      "metadata": {
        "id": "JyOhyuA14OdR",
        "colab_type": "code",
        "colab": {
          "base_uri": "https://localhost:8080/",
          "height": 70
        },
        "outputId": "5fe23b8d-84f7-459c-aecf-0549a8575154"
      },
      "source": [
        "import analysis"
      ],
      "execution_count": 3,
      "outputs": [
        {
          "output_type": "stream",
          "text": [
            "/usr/local/lib/python3.6/dist-packages/statsmodels/tools/_testing.py:19: FutureWarning: pandas.util.testing is deprecated. Use the functions in the public API at pandas.testing instead.\n",
            "  import pandas.util.testing as tm\n"
          ],
          "name": "stderr"
        }
      ]
    },
    {
      "cell_type": "code",
      "metadata": {
        "id": "B424L7uY4fZJ",
        "colab_type": "code",
        "colab": {}
      },
      "source": [
        "Mdir = \"/content/gdrive/My Drive/Colab Notebooks/\""
      ],
      "execution_count": 4,
      "outputs": []
    },
    {
      "cell_type": "code",
      "metadata": {
        "id": "hwbkB43J70nT",
        "colab_type": "code",
        "colab": {}
      },
      "source": [
        "# Loading saved stochastic predictions\n",
        "predDir = \"mcPredFalse0.6.npy\"\n",
        "mcPred = np.load(Mdir + predDir)"
      ],
      "execution_count": 24,
      "outputs": []
    },
    {
      "cell_type": "code",
      "metadata": {
        "id": "nQW3CMiKSj6a",
        "colab_type": "code",
        "colab": {
          "base_uri": "https://localhost:8080/",
          "height": 34
        },
        "outputId": "2ddbe84f-efb5-43e1-a28c-4ba03127ed23"
      },
      "source": [
        "mcPred.shape"
      ],
      "execution_count": 26,
      "outputs": [
        {
          "output_type": "execute_result",
          "data": {
            "text/plain": [
              "(500, 1511, 3)"
            ]
          },
          "metadata": {
            "tags": []
          },
          "execution_count": 26
        }
      ]
    },
    {
      "cell_type": "code",
      "metadata": {
        "id": "mblXImsi4hVT",
        "colab_type": "code",
        "colab": {}
      },
      "source": [
        "dataDir = \"Datasets/YawDD dataset/vids2.csv\"\n",
        "data = pd.read_csv(Mdir + dataDir)"
      ],
      "execution_count": 6,
      "outputs": []
    },
    {
      "cell_type": "code",
      "metadata": {
        "id": "pqeHOw-g5UIq",
        "colab_type": "code",
        "colab": {}
      },
      "source": [
        "# getting same split used during training, to get y_test. \n",
        "num_classes = 3\n",
        "y = data['class']\n",
        "y = keras.utils.to_categorical(y, num_classes)\n",
        "# X = y\n",
        "X_train, X_test, y_train, y_test = train_test_split(X, y, random_state=21356, test_size=0.4, shuffle = False)"
      ],
      "execution_count": 23,
      "outputs": []
    },
    {
      "cell_type": "code",
      "metadata": {
        "id": "kpVEFzWj7ko4",
        "colab_type": "code",
        "colab": {}
      },
      "source": [
        "yTrue = y_test.argmax(axis = 1)\n",
        "mc_ensemble_pred = mcPred.mean(axis=0).argmax(axis=1)"
      ],
      "execution_count": 21,
      "outputs": []
    },
    {
      "cell_type": "code",
      "metadata": {
        "id": "d4ATZ5aDAW-J",
        "colab_type": "code",
        "colab": {}
      },
      "source": [
        "_, vr = analysis.cal_var_ratio(mcPred)\n",
        "stats1 = vr[0]"
      ],
      "execution_count": 9,
      "outputs": []
    },
    {
      "cell_type": "code",
      "metadata": {
        "id": "evvccuQ7A0yZ",
        "colab_type": "code",
        "colab": {}
      },
      "source": [
        "# stats broken in meaning categories\n",
        "trL, flL = analysis.get_stats(yTrue, mc_ensemble_pred, stats1)\n",
        "xLabel = 'Variation Ratio'\n",
        "fig = analysis.createPlot(trL, flL, xLabel, n_bins=6)"
      ],
      "execution_count": null,
      "outputs": []
    },
    {
      "cell_type": "code",
      "metadata": {
        "id": "7HI4o7gZBkZQ",
        "colab_type": "code",
        "colab": {}
      },
      "source": [
        "imDir = 'unc1_3.pdf'\n",
        "fig.savefig(Mdir + imDir, dpi=300)"
      ],
      "execution_count": 25,
      "outputs": []
    },
    {
      "cell_type": "code",
      "metadata": {
        "id": "T8CqglkvGlV5",
        "colab_type": "code",
        "colab": {}
      },
      "source": [
        "stats2 = analysis.cal_pred_entropy(mcPred)"
      ],
      "execution_count": 12,
      "outputs": []
    },
    {
      "cell_type": "code",
      "metadata": {
        "id": "j5t16JG7CND0",
        "colab_type": "code",
        "colab": {}
      },
      "source": [
        "trL1, frL1 = analysis.get_stats(yTrue, mc_ensemble_pred, stats2)\n",
        "xLabel = 'Predictive Entropy'\n",
        "fig1 = analysis.createPlot(trL1, frL1, xLabel, n_bins=8)"
      ],
      "execution_count": null,
      "outputs": []
    },
    {
      "cell_type": "code",
      "metadata": {
        "id": "xSowpX8JGi3R",
        "colab_type": "code",
        "colab": {}
      },
      "source": [
        "stats3 = analysis.cal_mutual_info(mcPred)"
      ],
      "execution_count": 12,
      "outputs": []
    },
    {
      "cell_type": "code",
      "metadata": {
        "id": "ITsEkMeiCTBH",
        "colab_type": "code",
        "colab": {}
      },
      "source": [
        "trL2, frL2 = analysis.get_stats(yTrue, mc_ensemble_pred, stats3)\n",
        "xLabel = 'Mutual Information'\n",
        "fig2 = analysis.createPlot(trL2, frL2, xLabel, n_bins=8)"
      ],
      "execution_count": null,
      "outputs": []
    },
    {
      "cell_type": "code",
      "metadata": {
        "id": "corlQiNQC5Qm",
        "colab_type": "code",
        "colab": {}
      },
      "source": [
        "# incorrect prediction with high uncertainty\n",
        "figG, cts = analysis.plot_highUnc(stats2, stats3, mcPred, yTrue, mc_ensemble_pred, n_bins=10)"
      ],
      "execution_count": null,
      "outputs": []
    },
    {
      "cell_type": "code",
      "metadata": {
        "id": "e9bK0a1OLshj",
        "colab_type": "code",
        "colab": {}
      },
      "source": [
        "# load input data and rerun the split\n",
        "Xdir = \"vid2.npy\"\n",
        "X = np.load(Mdir + Xdir)\n",
        "X_train, X_test, y_train, y_test = train_test_split(X, y, random_state=21356, test_size=0.6, shuffle = False)"
      ],
      "execution_count": 9,
      "outputs": []
    },
    {
      "cell_type": "code",
      "metadata": {
        "id": "O65wjOuKDXeF",
        "colab_type": "code",
        "colab": {}
      },
      "source": [
        "# Plot correct and incorrect inputs with high confidence\n",
        "fig2 = analysis.plot_incorrect(stats2, mcPred, yTrue, mc_ensemble_pred,X_test, n_bins = 10, leave=6, datasetType='multi')"
      ],
      "execution_count": null,
      "outputs": []
    },
    {
      "cell_type": "code",
      "metadata": {
        "id": "C7UF8h_DLVL6",
        "colab_type": "code",
        "colab": {}
      },
      "source": [
        "fig2 = analysis.plot_correct(stats2, mcPred, yTrue, mc_ensemble_pred,X_test, n_bins = 10, leave=6, datasetType='multi')"
      ],
      "execution_count": null,
      "outputs": []
    }
  ]
}