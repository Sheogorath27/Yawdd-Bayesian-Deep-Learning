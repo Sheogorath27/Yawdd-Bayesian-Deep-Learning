{
  "nbformat": 4,
  "nbformat_minor": 0,
  "metadata": {
    "colab": {
      "name": "dataset.ipynb",
      "provenance": [],
      "collapsed_sections": []
    },
    "kernelspec": {
      "name": "python3",
      "display_name": "Python 3"
    }
  },
  "cells": [
    {
      "cell_type": "code",
      "metadata": {
        "id": "L11JH-xsjnuu",
        "colab_type": "code",
        "colab": {}
      },
      "source": [
        "from google.colab import drive \n",
        "drive.mount('/content/gdrive')"
      ],
      "execution_count": null,
      "outputs": []
    },
    {
      "cell_type": "code",
      "metadata": {
        "id": "QYIlVeWrnuyB",
        "colab_type": "code",
        "colab": {}
      },
      "source": [
        "Mdir = \"\""
      ],
      "execution_count": null,
      "outputs": []
    },
    {
      "cell_type": "code",
      "metadata": {
        "id": "f9Du66jsoSp4",
        "colab_type": "code",
        "colab": {}
      },
      "source": [
        "import dataSampler"
      ],
      "execution_count": null,
      "outputs": []
    },
    {
      "cell_type": "code",
      "metadata": {
        "id": "77Xxr2xgo9ue",
        "colab_type": "code",
        "colab": {}
      },
      "source": [
        "import pandas as pd"
      ],
      "execution_count": null,
      "outputs": []
    },
    {
      "cell_type": "code",
      "metadata": {
        "id": "uYLZqrxCneEG",
        "colab_type": "code",
        "colab": {}
      },
      "source": [
        "# download dataset\n",
        "import requests \n",
        "file_url = \"http://www.discover.uottawa.ca/images/files/external/YawDD_Dataset/YawDD.rar\"\n",
        "\t\n",
        "r = requests.get(file_url, stream = True) \n",
        "\n",
        "with open(Mdir+ \"YawDD.rar\", \"wb\") as file: \n",
        "\tfor block in r.iter_content(chunk_size = 1024): \n",
        "\t\tif block: \n",
        "\t\t\tfile.write(block) "
      ],
      "execution_count": null,
      "outputs": []
    },
    {
      "cell_type": "code",
      "metadata": {
        "id": "NsAFAJQbnpyG",
        "colab_type": "code",
        "colab": {}
      },
      "source": [
        "data = \"\"\n",
        "outDir = \"\"\n",
        "!unrar x data outDir"
      ],
      "execution_count": null,
      "outputs": []
    },
    {
      "cell_type": "markdown",
      "metadata": {
        "id": "fYkYd6lKpwyC",
        "colab_type": "text"
      },
      "source": [
        "Create single frame data from folders"
      ]
    },
    {
      "cell_type": "code",
      "metadata": {
        "id": "4IU9X6juoNI0",
        "colab_type": "code",
        "colab": {}
      },
      "source": [
        "dataSampler.sampleToFolder(inpDir, outDir)\n",
        "imageName, imageClass =  dataSampler.dataFromFolder(inpDir)"
      ],
      "execution_count": null,
      "outputs": []
    },
    {
      "cell_type": "code",
      "metadata": {
        "id": "9P86a_wdnqTK",
        "colab_type": "code",
        "colab": {}
      },
      "source": [
        "data = pd.DataFrame()\n",
        "data['image'] = imageName\n",
        "data['class'] = imageClass\n",
        "\n",
        "tDir  = \"\"\n",
        "data.to_csv(Mdir + tDir,header=True, index=False)"
      ],
      "execution_count": null,
      "outputs": []
    },
    {
      "cell_type": "code",
      "metadata": {
        "id": "R-y4a9fgpN2a",
        "colab_type": "code",
        "colab": {}
      },
      "source": [
        "imageData = createDatasetFolder(data, inpDir)\n",
        "X = np.array(imageData)\n",
        "np.save(Mdir, X)"
      ],
      "execution_count": null,
      "outputs": []
    },
    {
      "cell_type": "markdown",
      "metadata": {
        "id": "TC6NP0s-qkwR",
        "colab_type": "text"
      },
      "source": [
        "Sequentail Dataset for RNN"
      ]
    },
    {
      "cell_type": "code",
      "metadata": {
        "id": "h93Jpd4Cqorh",
        "colab_type": "code",
        "colab": {}
      },
      "source": [
        "# inpDir: directory of video files\n",
        "vidList, classList, fNameList = dataSampler.createSeqDataset(inpDir)"
      ],
      "execution_count": null,
      "outputs": []
    },
    {
      "cell_type": "code",
      "metadata": {
        "id": "lnahFFPvrBoX",
        "colab_type": "code",
        "colab": {}
      },
      "source": [
        "vidArray = np.array([np.array(xi) for xi in vidList])\n",
        "np.save(Mdir, vidArray)"
      ],
      "execution_count": null,
      "outputs": []
    },
    {
      "cell_type": "code",
      "metadata": {
        "id": "EofAavD8rFES",
        "colab_type": "code",
        "colab": {}
      },
      "source": [
        "data = pd.DataFrame()\n",
        "data['image'] = fNameList\n",
        "data['class'] = classList\n",
        "tDir  = \"\"\n",
        "data.to_csv(tDir,header=True, index=False)"
      ],
      "execution_count": null,
      "outputs": []
    },
    {
      "cell_type": "markdown",
      "metadata": {
        "id": "z13gV66fsSL3",
        "colab_type": "text"
      },
      "source": [
        "Multi-Frame dataset from sequentail datset"
      ]
    },
    {
      "cell_type": "code",
      "metadata": {
        "id": "J8exzIRzsRwM",
        "colab_type": "code",
        "colab": {}
      },
      "source": [
        "multiData, classList, fNameList = dataSampler.createMultiFrameDataset(vidArray, data)"
      ],
      "execution_count": null,
      "outputs": []
    },
    {
      "cell_type": "code",
      "metadata": {
        "id": "N-6P5zFjtAdn",
        "colab_type": "code",
        "colab": {}
      },
      "source": [
        "vidArr2 = np.asarray(multiData)"
      ],
      "execution_count": null,
      "outputs": []
    },
    {
      "cell_type": "code",
      "metadata": {
        "id": "sBun0ARXtJ8B",
        "colab_type": "code",
        "colab": {}
      },
      "source": [
        "data = pd.DataFrame()\n",
        "data['image'] = fNameList\n",
        "data['class'] = classList\n",
        "tDir  = \"\"\n",
        "data.to_csv(tDir,header=True, index=False)"
      ],
      "execution_count": null,
      "outputs": []
    },
    {
      "cell_type": "markdown",
      "metadata": {
        "id": "jTe1kAcNtgpq",
        "colab_type": "text"
      },
      "source": [
        "Split multi frame data for LSTM"
      ]
    },
    {
      "cell_type": "code",
      "metadata": {
        "id": "Nj9vCMXhtYlh",
        "colab_type": "code",
        "colab": {}
      },
      "source": [
        "XNew = []\n",
        "for imgs in vidArr2:\n",
        "  temp = np.hsplit(imgs, 6)\n",
        "  XNew.append(temp)"
      ],
      "execution_count": null,
      "outputs": []
    }
  ]
}